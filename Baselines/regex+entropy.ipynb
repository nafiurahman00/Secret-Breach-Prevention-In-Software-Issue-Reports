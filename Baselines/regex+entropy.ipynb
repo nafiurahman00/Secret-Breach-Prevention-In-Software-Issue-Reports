{
 "cells": [
  {
   "cell_type": "code",
   "execution_count": null,
   "id": "7db13f35",
   "metadata": {},
   "outputs": [],
   "source": [
    "import pandas as pd\n",
    "import numpy as np\n",
    "import math\n",
    "import re\n",
    "from sklearn.linear_model import LogisticRegression\n",
    "from sklearn.metrics import precision_recall_fscore_support\n",
    "from sklearn.model_selection import train_test_split\n",
    "from sklearn.feature_extraction.text import TfidfVectorizer\n",
    "\n",
    "# -----------------------------\n",
    "# 1. Load dataset\n",
    "# -----------------------------\n",
    "df = pd.read_csv(\"test.csv\")\n",
    "df = df.dropna(subset=[\"candidate_string\", \"label\"])\n",
    "\n",
    "X = df[\"candidate_string\"].astype(str).values\n",
    "y = df[\"label\"].values\n",
    "\n",
    "# -----------------------------\n",
    "# Helper: Shannon Entropy\n",
    "# -----------------------------\n",
    "def shannon_entropy(s: str) -> float:\n",
    "    if not s:\n",
    "        return 0\n",
    "    probs = [float(s.count(c)) / len(s) for c in set(s)]\n",
    "    return -sum(p * math.log2(p) for p in probs)\n",
    "\n",
    "# -----------------------------\n",
    "# 2. Entropy Filtering Baseline\n",
    "# -----------------------------\n",
    "# Typical secret detection thresholds: entropy > 3.5 and length > 20\n",
    "entropy_preds = [\n",
    "    1 if (shannon_entropy(s) > 3.5 and len(s) > 20) else 0\n",
    "    for s in X\n",
    "]\n",
    "\n",
    "prec_e, rec_e, f1_e, _ = precision_recall_fscore_support(\n",
    "    y, entropy_preds, average=\"binary\", zero_division=0\n",
    ")\n",
    "\n",
    "print(\"Entropy Filtering:\")\n",
    "print(f\" Precision={prec_e:.4f} Recall={rec_e:.4f} F1={f1_e:.4f}\")\n",
    "\n"
   ]
  }
 ],
 "metadata": {
  "kernelspec": {
   "display_name": "semantic",
   "language": "python",
   "name": "python3"
  },
  "language_info": {
   "codemirror_mode": {
    "name": "ipython",
    "version": 3
   },
   "file_extension": ".py",
   "mimetype": "text/x-python",
   "name": "python",
   "nbconvert_exporter": "python",
   "pygments_lexer": "ipython3",
   "version": "3.11.11"
  }
 },
 "nbformat": 4,
 "nbformat_minor": 5
}
