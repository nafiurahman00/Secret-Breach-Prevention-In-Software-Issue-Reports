{
 "cells": [
  {
   "cell_type": "code",
   "execution_count": null,
   "id": "3b6a60d6",
   "metadata": {},
   "outputs": [],
   "source": [
    "import pandas as pd\n",
    "import json\n",
    "from tqdm import tqdm"
   ]
  },
  {
   "cell_type": "code",
   "execution_count": null,
   "id": "510fdddf",
   "metadata": {},
   "outputs": [],
   "source": [
    "def load_dataset(file_path):\n",
    "    if file_path.endswith('.csv'):\n",
    "        return pd.read_csv(file_path)\n",
    "    elif file_path.endswith('.xlsx') or file_path.endswith('.xls'):\n",
    "        return pd.read_excel(file_path)\n",
    "    else:\n",
    "        raise ValueError(\"Unsupported file format. Use CSV or Excel.\")"
   ]
  },
  {
   "cell_type": "code",
   "execution_count": null,
   "id": "64530430",
   "metadata": {},
   "outputs": [],
   "source": [
    "import pandas as pd\n",
    "import json\n",
    "from tqdm import tqdm\n",
    "import os\n",
    "\n",
    "def label_dataset_with_checkpoints(df, checkpoint_path=\"label_checkpoint.csv\", text_column=\"text\"):\n",
    "    \"\"\"\n",
    "    Interactively label a dataset row-by-row with resume capability using checkpoints.\n",
    "\n",
    "    Args:\n",
    "        df (pd.DataFrame): Input DataFrame to label.\n",
    "        checkpoint_path (str): Path to the checkpoint file (CSV).\n",
    "        text_column (str): Column to display for labeling.\n",
    "\n",
    "    Returns:\n",
    "        pd.DataFrame: Labeled DataFrame with a 'label' column.\n",
    "    \"\"\"\n",
    "\n",
    "    # Load checkpoint if it exists\n",
    "    if os.path.exists(checkpoint_path):\n",
    "        checkpoint_df = pd.read_csv(checkpoint_path)\n",
    "        print(f\"✅ Loaded checkpoint with {len(checkpoint_df)} labeled rows.\")\n",
    "    else:\n",
    "        checkpoint_df = pd.DataFrame(columns=list(df.columns) + ['label'])\n",
    "\n",
    "    # Determine where to resume\n",
    "    start_idx = len(checkpoint_df)\n",
    "    print(f\"Starting from row {start_idx} of {len(df)}.\\n\")\n",
    "\n",
    "    labels = []\n",
    "    for i in tqdm(range(start_idx, len(df)), desc=\"Labeling Rows\"):\n",
    "        row = df.iloc[i].copy()\n",
    "        row_dict = row.to_dict()\n",
    "\n",
    "        # Display selected text column\n",
    "        print(f\"\\nRow {i}: {row_dict.get('candidate_string', '[Column not found]')}\\n\")\n",
    "\n",
    "        # Save current row to JSON for inspection\n",
    "        with open(\"temp.json\", \"w\") as f:\n",
    "            json.dump(row_dict.get(text_column, '[Column not found]'), f, indent=2)\n",
    "\n",
    "        while True:\n",
    "            label = input(\"Enter label (0/1) or 2 to save and exit: \").strip()\n",
    "            if label in ['0', '1']:\n",
    "                row['label'] = int(label)\n",
    "                checkpoint_df = pd.concat([checkpoint_df, pd.DataFrame([row])], ignore_index=True)\n",
    "                checkpoint_df.to_csv(checkpoint_path, index=False)\n",
    "                break\n",
    "            elif label == '2':\n",
    "                print(f\"Progress saved to '{checkpoint_path}'. Exiting early.\")\n",
    "                return checkpoint_df\n",
    "            else:\n",
    "                print(\"Invalid input. Please enter 0, 1, or 2.\")\n",
    "\n",
    "    print(f\"\\n✅ All rows labeled. Final dataset saved to '{checkpoint_path}'.\")\n",
    "    return checkpoint_df\n",
    "\n",
    "        "
   ]
  },
  {
   "cell_type": "code",
   "execution_count": null,
   "id": "0945e80f",
   "metadata": {},
   "outputs": [],
   "source": [
    "# ---- USAGE ----\n",
    "file_path = \"studio-ousia_luke-base_486_flagged.csv\"  # <-- Change this to your file path\n",
    "df = load_dataset(file_path)\n",
    "df = label_dataset_with_checkpoints(df)"
   ]
  }
 ],
 "metadata": {
  "kernelspec": {
   "display_name": "torch",
   "language": "python",
   "name": "python3"
  },
  "language_info": {
   "codemirror_mode": {
    "name": "ipython",
    "version": 3
   },
   "file_extension": ".py",
   "mimetype": "text/x-python",
   "name": "python",
   "nbconvert_exporter": "python",
   "pygments_lexer": "ipython3",
   "version": "3.9.21"
  }
 },
 "nbformat": 4,
 "nbformat_minor": 5
}
